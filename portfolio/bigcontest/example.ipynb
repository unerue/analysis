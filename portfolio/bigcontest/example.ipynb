{
 "cells": [
  {
   "cell_type": "code",
   "execution_count": null,
   "metadata": {},
   "outputs": [],
   "source": [
    "import pandas as pd\n",
    "import numpy as np\n",
    "from sklearn.model_selection import train_test_split\n",
    "\n",
    "train = pd.read_csv('train.csv')\n",
    "\n",
    "train[['Sex', 'Cabin', 'Embarked']] = train[['Sex', 'Cabin', 'Embarked']].astype('category')\n",
    "train[['Sex', 'Cabin', 'Embarked']] = train[['Sex', 'Cabin', 'Embarked']].apply(lambda x: x.cat.codes)\n",
    "\n",
    "X = train[['Pclass', 'Sex', 'Age', 'SibSp', 'Parch', 'Fare', 'Cabin', 'Embarked']].copy()\n",
    "y = pd.DataFrame(train['Survived'].values, columns=['Target'])\n",
    "print(X.shape, y.shape)\n",
    "\n",
    "X_train, X_test, y_train, y_test = train_test_split(X, y, test_size=0.2, random_state=42)\n",
    "print(X_train.shape, X_test.shape, y_train.shape, y_test.shape)"
   ]
  },
  {
   "cell_type": "code",
   "execution_count": null,
   "metadata": {},
   "outputs": [],
   "source": [
    "from optimizer import GeneticOptimizer\n",
    "\n",
    "genetic_optimizer = GeneticOptimizer(num_class=2, num_boost_round=5, n_splits=3, pop=10, ngen=20, n_jobs=8)\n",
    "genetic_optimizer.fit(X_train, X_test, y_train, y_test)"
   ]
  }
 ],
 "metadata": {
  "kernelspec": {
   "display_name": "Python 3",
   "language": "python",
   "name": "python3"
  },
  "language_info": {
   "codemirror_mode": {
    "name": "ipython",
    "version": 3
   },
   "file_extension": ".py",
   "mimetype": "text/x-python",
   "name": "python",
   "nbconvert_exporter": "python",
   "pygments_lexer": "ipython3",
   "version": "3.6.8"
  }
 },
 "nbformat": 4,
 "nbformat_minor": 4
}
